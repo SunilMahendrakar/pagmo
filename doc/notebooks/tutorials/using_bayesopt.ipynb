{
 "cells": [
  {
   "cell_type": "markdown",
   "metadata": {},
   "source": [
    "\n",
    "# Installation"
   ]
  },
  {
   "cell_type": "markdown",
   "metadata": {},
   "source": [
    "PaGMO wraps one the Bayesian Optimization library, *bayesopt* [1].\n",
    "Using it requries installing BayesOpt in the system (Installation instructions available at: http://rmcantin.bitbucket.org/html/), and then building PaGMO with the *ENABLE_BAYESOPT* flag set to *ON*.\n",
    "\n",
    "**Note:**\n",
    "It's very likely that after installation of BayesOpt, the headers of the library will not be found by PaGMO. This occurs by throwing the following compilation error:\n",
    "\n",
    "```\n",
    "/usr/local/include/bayesopt.hpp:27:28: fatal error: bayesoptbase.hpp: No such file or directory\n",
    "```\n",
    "\n",
    "That's because headers are not copied correctly during build process. To fix this, either refer to the correct header files in the downloaded BayesOpt sources by setting the variable *BAYESOPT_INCLUDE_DIR*, or by manually copying the *bayesopt/include* to *usr/local*.\n",
    "\n",
    "[1] Ruben Martinez-Cantin, BayesOpt: A Bayesian Optimization Library for Nonlinear Optimization, Experimental Design and Bandits. Journal of Machine Learning Research, 15(Nov):3735–3739, 2014."
   ]
  },
  {
   "cell_type": "markdown",
   "metadata": {},
   "source": [
    "# Parameters"
   ]
  },
  {
   "cell_type": "markdown",
   "metadata": {},
   "source": [
    "TODO: Explain the parameters of BayesOpt and link to the original docs"
   ]
  },
  {
   "cell_type": "markdown",
   "metadata": {},
   "source": [
    "# Examples"
   ]
  },
  {
   "cell_type": "code",
   "execution_count": null,
   "metadata": {
    "collapsed": false
   },
   "outputs": [],
   "source": [
    "import PyGMO as pg\n",
    "import time\n",
    "prob = pg.problem.rosenbrock(5)\n",
    "pop = pg.population(prob, 1)\n",
    "algo = pg.algorithm.bayesopt(n_iterations=100)\n",
    "\n",
    "t0 = time.time()\n",
    "pop = algo.evolve(pop)\n",
    "print \"Took: {}[s]\".format(time.time() - t0)\n",
    "print \"Post f:\", pop.champion.f\n",
    "print \"Post f_evals:\", pop.problem.fevals\n"
   ]
  },
  {
   "cell_type": "markdown",
   "metadata": {},
   "source": [
    "As you can see, the library is efficient in the number of function evaluations, but the internal processing itself takes a while to complete for larger problems and number of iterations."
   ]
  }
 ],
 "metadata": {
  "kernelspec": {
   "display_name": "Python 2",
   "language": "python",
   "name": "python2"
  },
  "language_info": {
   "codemirror_mode": {
    "name": "ipython",
    "version": 2
   },
   "file_extension": ".py",
   "mimetype": "text/x-python",
   "name": "python",
   "nbconvert_exporter": "python",
   "pygments_lexer": "ipython2",
   "version": "2.7.5"
  }
 },
 "nbformat": 4,
 "nbformat_minor": 0
}
